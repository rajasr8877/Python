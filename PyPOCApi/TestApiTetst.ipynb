{
 "cells": [
  {
   "cell_type": "code",
   "execution_count": null,
   "id": "3a669f0b-f98c-4a6a-90bd-c9964364cc52",
   "metadata": {},
   "outputs": [],
   "source": [
    "from flask import Flask, jsonify\n",
    "app = Flask(__name__)"
   ]
  },
  {
   "cell_type": "code",
   "execution_count": null,
   "id": "5a070712-bc14-4485-b285-3f5cc0bf8318",
   "metadata": {},
   "outputs": [
    {
     "name": "stdout",
     "output_type": "stream",
     "text": [
      " * Serving Flask app '__main__'\n",
      " * Debug mode: on\n"
     ]
    },
    {
     "name": "stderr",
     "output_type": "stream",
     "text": [
      "WARNING: This is a development server. Do not use it in a production deployment. Use a production WSGI server instead.\n",
      " * Running on http://127.0.0.1:9090\n",
      "Press CTRL+C to quit\n",
      " * Restarting with stat\n"
     ]
    },
    {
     "ename": "SystemExit",
     "evalue": "1",
     "output_type": "error",
     "traceback": [
      "An exception has occurred, use %tb to see the full traceback.\n",
      "\u001b[1;31mSystemExit\u001b[0m\u001b[1;31m:\u001b[0m 1\n"
     ]
    },
    {
     "name": "stderr",
     "output_type": "stream",
     "text": [
      "C:\\Python\\Lib\\site-packages\\IPython\\core\\interactiveshell.py:3585: UserWarning: To exit: use 'exit', 'quit', or Ctrl-D.\n",
      "  warn(\"To exit: use 'exit', 'quit', or Ctrl-D.\", stacklevel=1)\n"
     ]
    }
   ],
   "source": [
    "app = Flask(__name__)\n",
    "\n",
    "# Sample data (replace with your actual data)\n",
    "data = {\n",
    "    \"users\": [\n",
    "        {\"id\": 1, \"name\": \"Alice\"},\n",
    "        {\"id\": 2, \"name\": \"Bob\"}\n",
    "    ]\n",
    "}\n",
    "\n",
    "# GET endpoint for retrieving all users\n",
    "@app.route('/users', methods=['GET'])\n",
    "def get_users():\n",
    "    return jsonify(data['users'])\n",
    "\n",
    "# GET endpoint for retrieving a specific user by ID\n",
    "@app.route('/users/<int:user_id>', methods=['GET'])\n",
    "def get_user(user_id):\n",
    "    user = [user for user in data['users'] if user['id'] == user_id]\n",
    "    if user:\n",
    "        return jsonify(user[0])\n",
    "    else:\n",
    "        return jsonify({'error': 'User not found'}), 404\n",
    "\n",
    "if __name__ == '__main__':\n",
    "    app.run(debug=True, port=10006)"
   ]
  },
  {
   "cell_type": "code",
   "execution_count": null,
   "id": "b47166e5-662c-43d1-bb03-bb996ab889bc",
   "metadata": {},
   "outputs": [],
   "source": []
  }
 ],
 "metadata": {
  "kernelspec": {
   "display_name": "Python 3 (ipykernel)",
   "language": "python",
   "name": "python3"
  },
  "language_info": {
   "codemirror_mode": {
    "name": "ipython",
    "version": 3
   },
   "file_extension": ".py",
   "mimetype": "text/x-python",
   "name": "python",
   "nbconvert_exporter": "python",
   "pygments_lexer": "ipython3",
   "version": "3.11.9"
  }
 },
 "nbformat": 4,
 "nbformat_minor": 5
}
